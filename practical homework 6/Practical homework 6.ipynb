{
 "cells": [
  {
   "cell_type": "markdown",
   "id": "9c08494d",
   "metadata": {},
   "source": [
    "## Problem 1"
   ]
  },
  {
   "cell_type": "code",
   "execution_count": 6,
   "id": "cbcacc4a",
   "metadata": {},
   "outputs": [
    {
     "data": {
      "text/plain": [
       "'Area = 1/2*a*h '"
      ]
     },
     "execution_count": 6,
     "metadata": {},
     "output_type": "execute_result"
    }
   ],
   "source": [
    "class Shape(object):\n",
    "\n",
    "    def draw(self):\n",
    "        \n",
    "        raise NotImplementedError(\"draw() method is not implemented.\")\n",
    "\n",
    "\n",
    "class Square(Shape):\n",
    "\n",
    "    def draw(self):\n",
    "    \n",
    "       return \"Area = a^2 \"\n",
    "\n",
    "\n",
    "class Circle(Shape):\n",
    "  \n",
    "    def draw(self):\n",
    "    \n",
    "        return \"Area = pi*r^2 \"\n",
    "\n",
    "class Tringle(Shape):\n",
    "  \n",
    "    def draw(self):\n",
    "    \n",
    "        return \"Area = 1/2*a*h \"\n",
    "\n",
    "\n",
    "class ShapeFactory(object):\n",
    "\n",
    "    def getShape(self, shapeName):\n",
    "        \n",
    "        if shapeName == \"tringle\":\n",
    "            return Tringle()\n",
    "        elif shapeName == \"square\":\n",
    "            return Square()\n",
    "        elif shapeName == \"circle\":\n",
    "            return Circle()\n",
    "        else:\n",
    "            return None\n",
    "\n",
    "\n",
    "\n",
    "factory = ShapeFactory()\n",
    "\n",
    "tringle = factory.getShape(\"tringle\")\n",
    "tringle.draw()\n"
   ]
  },
  {
   "cell_type": "code",
   "execution_count": 7,
   "id": "c18faf3b",
   "metadata": {},
   "outputs": [
    {
     "data": {
      "text/plain": [
       "'Area = a^2 '"
      ]
     },
     "execution_count": 7,
     "metadata": {},
     "output_type": "execute_result"
    }
   ],
   "source": [
    "square = factory.getShape(\"square\")\n",
    "square.draw()\n"
   ]
  },
  {
   "cell_type": "code",
   "execution_count": 8,
   "id": "714eddd6",
   "metadata": {},
   "outputs": [
    {
     "data": {
      "text/plain": [
       "'Area = pi*r^2 '"
      ]
     },
     "execution_count": 8,
     "metadata": {},
     "output_type": "execute_result"
    }
   ],
   "source": [
    "circle = factory.getShape(\"circle\")\n",
    "circle.draw()"
   ]
  },
  {
   "cell_type": "markdown",
   "id": "f5fadbf8",
   "metadata": {},
   "source": [
    "## Problem 2"
   ]
  },
  {
   "cell_type": "code",
   "execution_count": 5,
   "id": "d8e8bf34",
   "metadata": {},
   "outputs": [
    {
     "name": "stdout",
     "output_type": "stream",
     "text": [
      "Welcome to The World of Wines!!!\n",
      "Red Wine or White Wine \n",
      "MAC!!! Beauty Outside, Beast Inside\n",
      "Yes(checked) or No(not checked)\n"
     ]
    }
   ],
   "source": [
    "from __future__ import annotations\n",
    "from abc import ABC, abstractmethod\n",
    "\n",
    "\n",
    "class Application(ABC):\n",
    "\n",
    "    @abstractmethod\n",
    "    def create_button(self):\n",
    "        pass\n",
    "    @abstractmethod\n",
    "    def create_checkbox(self):\n",
    "        pass\n",
    "    \n",
    "class WineFactory(Application):\n",
    "\n",
    "    def create_button(self):\n",
    "        return Wine_button()\n",
    "\n",
    "    def create_checkbox(self):\n",
    "        return Wine_checkbox()\n",
    "    \n",
    "class MacFactory(Application):\n",
    "\n",
    "    def create_button(self):\n",
    "        return Mac_button()\n",
    "\n",
    "    def create_checkbox(self):\n",
    "        return Mac_checkbox()\n",
    "    \n",
    "class Wine_button(WineFactory):\n",
    "    def button_func(self):\n",
    "        return 'Welcome to The World of Wines!!!' \n",
    "    \n",
    "class Mac_button(MacFactory):\n",
    "    def button_func(self):\n",
    "        return 'MAC!!! Beauty Outside, Beast Inside'\n",
    "    \n",
    "class Wine_checkbox(WineFactory):\n",
    "    def checkbox_func(self):\n",
    "        return 'Red Wine or White Wine '\n",
    "    \n",
    "class Mac_checkbox(MacFactory):\n",
    "    def checkbox_func(self):\n",
    "        return 'Yes(checked) or No(not checked)'\n",
    "    \n",
    "def user(userid):\n",
    "\n",
    "    button = userid.create_button()\n",
    "    checkbox = userid.create_checkbox()\n",
    "\n",
    "    print(button.button_func())\n",
    "    print(checkbox.checkbox_func())\n",
    "\n",
    "user(WineFactory())\n",
    "user(MacFactory())"
   ]
  },
  {
   "cell_type": "markdown",
   "id": "e16de4b3",
   "metadata": {},
   "source": [
    "## Problem 3"
   ]
  },
  {
   "cell_type": "code",
   "execution_count": null,
   "id": "591fdb22",
   "metadata": {},
   "outputs": [],
   "source": [
    "\n"
   ]
  }
 ],
 "metadata": {
  "kernelspec": {
   "display_name": "Python 3",
   "language": "python",
   "name": "python3"
  },
  "language_info": {
   "codemirror_mode": {
    "name": "ipython",
    "version": 3
   },
   "file_extension": ".py",
   "mimetype": "text/x-python",
   "name": "python",
   "nbconvert_exporter": "python",
   "pygments_lexer": "ipython3",
   "version": "3.8.8"
  }
 },
 "nbformat": 4,
 "nbformat_minor": 5
}
