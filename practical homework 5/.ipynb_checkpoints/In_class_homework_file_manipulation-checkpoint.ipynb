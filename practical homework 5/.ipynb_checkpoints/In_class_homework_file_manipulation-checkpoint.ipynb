{
 "cells": [
  {
   "cell_type": "markdown",
   "metadata": {},
   "source": [
    "### Open the file file1.txt\n",
    "### Բացեք file1.txt-ն"
   ]
  },
  {
   "cell_type": "code",
   "execution_count": null,
   "metadata": {},
   "outputs": [],
   "source": []
  },
  {
   "cell_type": "markdown",
   "metadata": {},
   "source": [
    "### Get the first 10 lines of the file file1.txt \n",
    "### Ստացեք file1.txt ֆայլի առաջին 10 տողերը"
   ]
  },
  {
   "cell_type": "code",
   "execution_count": null,
   "metadata": {},
   "outputs": [],
   "source": []
  },
  {
   "cell_type": "markdown",
   "metadata": {},
   "source": [
    "### Write a try ... except clause for opening the file\n",
    "### Օգտագործեք try ... except բլոկ ֆայլը բացելու համար"
   ]
  },
  {
   "cell_type": "code",
   "execution_count": null,
   "metadata": {},
   "outputs": [],
   "source": []
  },
  {
   "cell_type": "markdown",
   "metadata": {},
   "source": [
    "### Find the number of lines in the file. \n",
    "### Գտեք ֆայլի տողերի քանակը"
   ]
  },
  {
   "cell_type": "code",
   "execution_count": null,
   "metadata": {},
   "outputs": [],
   "source": []
  },
  {
   "cell_type": "markdown",
   "metadata": {},
   "source": [
    "### Create a list each entry of which will be a line from our file. Ignore the new line characters ('\\n').\n",
    "### Ստեղծեք list, որը յուրաքանչյուր տարր իրենից ներկայացնում է մեր ֆայլի մեկ տող, անտեսեք '\\n'-երը"
   ]
  },
  {
   "cell_type": "code",
   "execution_count": null,
   "metadata": {},
   "outputs": [],
   "source": []
  },
  {
   "cell_type": "markdown",
   "metadata": {},
   "source": [
    "### Open and read the file file2.txt\n",
    "### Բացեք և կարդացեք file2.txt ֆայլը"
   ]
  },
  {
   "cell_type": "code",
   "execution_count": null,
   "metadata": {},
   "outputs": [],
   "source": []
  },
  {
   "cell_type": "markdown",
   "metadata": {},
   "source": [
    "### Read the file file2.txt line by line and write its contents into the new file file3.txt\n",
    "### Տող առ տող կարդացեք file2.txt ֆայլը ու իր պարունակությունը գրեք նոր file3.txt ֆայլում"
   ]
  },
  {
   "cell_type": "code",
   "execution_count": null,
   "metadata": {},
   "outputs": [],
   "source": []
  },
  {
   "cell_type": "markdown",
   "metadata": {},
   "source": [
    "### Read the file file2.txt line by line and write its contents at the end of the file file1.txt\n",
    "### Տող առ տող կարդացեք file2.txt ֆայլը ու իր պարունակությունը կցեք  file1.txt ֆայլի վերջից"
   ]
  },
  {
   "cell_type": "code",
   "execution_count": null,
   "metadata": {},
   "outputs": [],
   "source": []
  },
  {
   "cell_type": "markdown",
   "metadata": {},
   "source": [
    "### * Write a Python program to read a random line from the file file1.txt.\n",
    "### Գրեք ծրագիր, որի արդյունքում կստանանք file1.txt ֆայլի մեկ պատահական տող  "
   ]
  },
  {
   "cell_type": "code",
   "execution_count": null,
   "metadata": {},
   "outputs": [],
   "source": []
  }
 ],
 "metadata": {
  "kernelspec": {
   "display_name": "Python 3",
   "language": "python",
   "name": "python3"
  },
  "language_info": {
   "codemirror_mode": {
    "name": "ipython",
    "version": 3
   },
   "file_extension": ".py",
   "mimetype": "text/x-python",
   "name": "python",
   "nbconvert_exporter": "python",
   "pygments_lexer": "ipython3",
   "version": "3.8.8"
  }
 },
 "nbformat": 4,
 "nbformat_minor": 2
}
