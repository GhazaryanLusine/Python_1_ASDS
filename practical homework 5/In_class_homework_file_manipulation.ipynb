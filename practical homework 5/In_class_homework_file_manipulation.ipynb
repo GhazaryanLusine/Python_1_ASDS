{
 "cells": [
  {
   "cell_type": "markdown",
   "metadata": {},
   "source": [
    "### Open the file file1.txt\n",
    "### Բացեք file1.txt-ն"
   ]
  },
  {
   "cell_type": "code",
   "execution_count": 40,
   "metadata": {},
   "outputs": [
    {
     "data": {
      "text/plain": [
       "'This is the 1st line of file1\\nThis is the 2nd line of file1\\nThis is the 3rd line of file1\\nThis is the 4th line of file1\\nThis is the 5th line of file1\\nThis is the 6th line of file1\\nThis is the 7th line of file1\\nThis is the 8th line of file1\\nThis is the 9th line of file1\\nThis is the 10th line of file\\n'"
      ]
     },
     "execution_count": 40,
     "metadata": {},
     "output_type": "execute_result"
    }
   ],
   "source": [
    "file = open(\"file1.txt\")\n",
    "file.read() "
   ]
  },
  {
   "cell_type": "markdown",
   "metadata": {},
   "source": [
    "### Get the first 10 lines of the file file1.txt \n",
    "### Ստացեք file1.txt ֆայլի առաջին 10 տողերը"
   ]
  },
  {
   "cell_type": "code",
   "execution_count": 41,
   "metadata": {},
   "outputs": [
    {
     "name": "stdout",
     "output_type": "stream",
     "text": [
      "This is the 1st line of file1\n",
      "\n",
      "This is the 2nd line of file1\n",
      "\n",
      "This is the 3rd line of file1\n",
      "\n",
      "This is the 4th line of file1\n",
      "\n",
      "This is the 5th line of file1\n",
      "\n",
      "This is the 6th line of file1\n",
      "\n",
      "This is the 7th line of file1\n",
      "\n",
      "This is the 8th line of file1\n",
      "\n",
      "This is the 9th line of file1\n",
      "\n",
      "This is the 10th line of file\n",
      "\n"
     ]
    }
   ],
   "source": [
    "file=open(\"file1.txt\",\"r\")\n",
    "for line in file:\n",
    "    print(line)\n",
    "file.close()"
   ]
  },
  {
   "cell_type": "markdown",
   "metadata": {},
   "source": [
    "### Write a try ... except clause for opening the file\n",
    "### Օգտագործեք try ... except բլոկ ֆայլը բացելու համար"
   ]
  },
  {
   "cell_type": "code",
   "execution_count": 42,
   "metadata": {},
   "outputs": [
    {
     "data": {
      "text/plain": [
       "'This is the 1st line of file1\\nThis is the 2nd line of file1\\nThis is the 3rd line of file1\\nThis is the 4th line of file1\\nThis is the 5th line of file1\\nThis is the 6th line of file1\\nThis is the 7th line of file1\\nThis is the 8th line of file1\\nThis is the 9th line of file1\\nThis is the 10th line of file\\n'"
      ]
     },
     "execution_count": 42,
     "metadata": {},
     "output_type": "execute_result"
    }
   ],
   "source": [
    "try:\n",
    "    file = open(\"file1.txt\")\n",
    "except IOError:\n",
    "    print(\"File not found or path is incorrect\")\n",
    "file.read()\n",
    "    "
   ]
  },
  {
   "cell_type": "code",
   "execution_count": 43,
   "metadata": {},
   "outputs": [
    {
     "name": "stdout",
     "output_type": "stream",
     "text": [
      "File not found or path is incorrect\n"
     ]
    },
    {
     "data": {
      "text/plain": [
       "''"
      ]
     },
     "execution_count": 43,
     "metadata": {},
     "output_type": "execute_result"
    }
   ],
   "source": [
    "try:\n",
    "    file = open(\"file.txt\")\n",
    "except IOError:\n",
    "    print(\"File not found or path is incorrect\")\n",
    "file.read()\n",
    "    "
   ]
  },
  {
   "cell_type": "markdown",
   "metadata": {},
   "source": [
    "### Find the number of lines in the file. \n",
    "### Գտեք ֆայլի տողերի քանակը"
   ]
  },
  {
   "cell_type": "code",
   "execution_count": 44,
   "metadata": {},
   "outputs": [
    {
     "name": "stdout",
     "output_type": "stream",
     "text": [
      "10\n"
     ]
    }
   ],
   "source": [
    "file = open(\"file1.txt\")\n",
    "n_line = 0\n",
    "for line in file:\n",
    "    if line != \"\\n\":\n",
    "        n_line += 1\n",
    "file.close()\n",
    "\n",
    "print(n_line)"
   ]
  },
  {
   "cell_type": "markdown",
   "metadata": {},
   "source": [
    "### Create a list each entry of which will be a line from our file. Ignore the new line characters ('\\n').\n",
    "### Ստեղծեք list, որը յուրաքանչյուր տարր իրենից ներկայացնում է մեր ֆայլի մեկ տող, անտեսեք '\\n'-երը"
   ]
  },
  {
   "cell_type": "code",
   "execution_count": 45,
   "metadata": {},
   "outputs": [
    {
     "data": {
      "text/plain": [
       "['This is the 1st line of file1',\n",
       " 'This is the 2nd line of file1',\n",
       " 'This is the 3rd line of file1',\n",
       " 'This is the 4th line of file1',\n",
       " 'This is the 5th line of file1',\n",
       " 'This is the 6th line of file1',\n",
       " 'This is the 7th line of file1',\n",
       " 'This is the 8th line of file1',\n",
       " 'This is the 9th line of file1',\n",
       " 'This is the 10th line of file']"
      ]
     },
     "execution_count": 45,
     "metadata": {},
     "output_type": "execute_result"
    }
   ],
   "source": [
    "file=open(\"file1.txt\",\"r\")\n",
    "file.read().splitlines()"
   ]
  },
  {
   "cell_type": "markdown",
   "metadata": {},
   "source": [
    "### Open and read the file file2.txt\n",
    "### Բացեք և կարդացեք file2.txt ֆայլը"
   ]
  },
  {
   "cell_type": "code",
   "execution_count": 46,
   "metadata": {},
   "outputs": [
    {
     "data": {
      "text/plain": [
       "'This is the 1st line of file2\\nThis is the 2nd line of file2\\nThis is the 3rd line of file2\\nThis is the 4th line of file2\\nThis is the 5th line of file2'"
      ]
     },
     "execution_count": 46,
     "metadata": {},
     "output_type": "execute_result"
    }
   ],
   "source": [
    "file_2 = open(\"file2.txt\")\n",
    "file_2.read() "
   ]
  },
  {
   "cell_type": "markdown",
   "metadata": {},
   "source": [
    "### Read the file file2.txt line by line and write its contents into the new file file3.txt\n",
    "### Տող առ տող կարդացեք file2.txt ֆայլը ու իր պարունակությունը գրեք նոր file3.txt ֆայլում"
   ]
  },
  {
   "cell_type": "code",
   "execution_count": 47,
   "metadata": {},
   "outputs": [
    {
     "data": {
      "text/plain": [
       "['This is the 1st line of file2\\n',\n",
       " 'This is the 2nd line of file2\\n',\n",
       " 'This is the 3rd line of file2\\n',\n",
       " 'This is the 4th line of file2\\n',\n",
       " 'This is the 5th line of file2']"
      ]
     },
     "execution_count": 47,
     "metadata": {},
     "output_type": "execute_result"
    }
   ],
   "source": [
    "file_2 = open(\"file2.txt\")\n",
    "m=file_2.readlines()\n",
    "m"
   ]
  },
  {
   "cell_type": "code",
   "execution_count": 48,
   "metadata": {},
   "outputs": [],
   "source": [
    "new_file=open(\"file3.txt\",mode=\"a+\",encoding=\"utf-8\")\n",
    "new_file.writelines(m)\n",
    "new_file.close()"
   ]
  },
  {
   "cell_type": "markdown",
   "metadata": {},
   "source": [
    "### Read the file file2.txt line by line and write its contents at the end of the file file1.txt\n",
    "### Տող առ տող կարդացեք file2.txt ֆայլը ու իր պարունակությունը կցեք  file1.txt ֆայլի վերջից"
   ]
  },
  {
   "cell_type": "code",
   "execution_count": 49,
   "metadata": {},
   "outputs": [],
   "source": [
    "file_2 = open(\"file2.txt\")\n",
    "m=file_2.readlines()\n",
    "new_file=open(\"file1.txt\",mode=\"a+\",encoding=\"utf-8\")\n",
    "new_file.writelines(m)\n",
    "for line in new_file:\n",
    "    print(line)\n",
    "new_file.close()"
   ]
  },
  {
   "cell_type": "markdown",
   "metadata": {},
   "source": [
    "### * Write a Python program to read a random line from the file file1.txt.\n",
    "### Գրեք ծրագիր, որի արդյունքում կստանանք file1.txt ֆայլի մեկ պատահական տող  "
   ]
  },
  {
   "cell_type": "code",
   "execution_count": 50,
   "metadata": {},
   "outputs": [
    {
     "name": "stdout",
     "output_type": "stream",
     "text": [
      "This is the 3rd line of file2\n"
     ]
    }
   ],
   "source": [
    "import random\n",
    "def randnum(filename):\n",
    "    lines=open(filename).read().splitlines()\n",
    "    return random.choice(lines)\n",
    "\n",
    "print(randnum('file1.txt'))"
   ]
  },
  {
   "cell_type": "code",
   "execution_count": null,
   "metadata": {},
   "outputs": [],
   "source": []
  }
 ],
 "metadata": {
  "kernelspec": {
   "display_name": "Python 3",
   "language": "python",
   "name": "python3"
  },
  "language_info": {
   "codemirror_mode": {
    "name": "ipython",
    "version": 3
   },
   "file_extension": ".py",
   "mimetype": "text/x-python",
   "name": "python",
   "nbconvert_exporter": "python",
   "pygments_lexer": "ipython3",
   "version": "3.8.8"
  }
 },
 "nbformat": 4,
 "nbformat_minor": 2
}
