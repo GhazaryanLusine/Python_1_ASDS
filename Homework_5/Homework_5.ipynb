{
 "cells": [
  {
   "cell_type": "markdown",
   "metadata": {},
   "source": [
    "# Problem 1"
   ]
  },
  {
   "cell_type": "code",
   "execution_count": 1,
   "metadata": {},
   "outputs": [],
   "source": [
    "def div(x,y):\n",
    "    assert y!=0,\"Can't divide\"\n",
    "    return(x/y)"
   ]
  },
  {
   "cell_type": "code",
   "execution_count": 4,
   "metadata": {},
   "outputs": [
    {
     "name": "stdout",
     "output_type": "stream",
     "text": [
      "3.0\n"
     ]
    },
    {
     "ename": "AssertionError",
     "evalue": "Can't divide",
     "output_type": "error",
     "traceback": [
      "\u001b[1;31m---------------------------------------------------------------------------\u001b[0m",
      "\u001b[1;31mAssertionError\u001b[0m                            Traceback (most recent call last)",
      "\u001b[1;32m<ipython-input-4-389d16eae017>\u001b[0m in \u001b[0;36m<module>\u001b[1;34m\u001b[0m\n\u001b[0;32m      1\u001b[0m \u001b[0mprint\u001b[0m\u001b[1;33m(\u001b[0m\u001b[0mdiv\u001b[0m\u001b[1;33m(\u001b[0m\u001b[1;36m15\u001b[0m\u001b[1;33m,\u001b[0m\u001b[1;36m5\u001b[0m\u001b[1;33m)\u001b[0m\u001b[1;33m)\u001b[0m\u001b[1;33m\u001b[0m\u001b[1;33m\u001b[0m\u001b[0m\n\u001b[1;32m----> 2\u001b[1;33m \u001b[0mprint\u001b[0m\u001b[1;33m(\u001b[0m\u001b[0mdiv\u001b[0m\u001b[1;33m(\u001b[0m\u001b[1;36m15\u001b[0m\u001b[1;33m,\u001b[0m\u001b[1;36m0\u001b[0m\u001b[1;33m)\u001b[0m\u001b[1;33m)\u001b[0m\u001b[1;33m\u001b[0m\u001b[1;33m\u001b[0m\u001b[0m\n\u001b[0m",
      "\u001b[1;32m<ipython-input-1-eaa1e509c685>\u001b[0m in \u001b[0;36mdiv\u001b[1;34m(x, y)\u001b[0m\n\u001b[0;32m      1\u001b[0m \u001b[1;32mdef\u001b[0m \u001b[0mdiv\u001b[0m\u001b[1;33m(\u001b[0m\u001b[0mx\u001b[0m\u001b[1;33m,\u001b[0m\u001b[0my\u001b[0m\u001b[1;33m)\u001b[0m\u001b[1;33m:\u001b[0m\u001b[1;33m\u001b[0m\u001b[1;33m\u001b[0m\u001b[0m\n\u001b[1;32m----> 2\u001b[1;33m     \u001b[1;32massert\u001b[0m \u001b[0my\u001b[0m\u001b[1;33m!=\u001b[0m\u001b[1;36m0\u001b[0m\u001b[1;33m,\u001b[0m\u001b[1;34m\"Can't divide\"\u001b[0m\u001b[1;33m\u001b[0m\u001b[1;33m\u001b[0m\u001b[0m\n\u001b[0m\u001b[0;32m      3\u001b[0m     \u001b[1;32mreturn\u001b[0m\u001b[1;33m(\u001b[0m\u001b[0mx\u001b[0m\u001b[1;33m/\u001b[0m\u001b[0my\u001b[0m\u001b[1;33m)\u001b[0m\u001b[1;33m\u001b[0m\u001b[1;33m\u001b[0m\u001b[0m\n",
      "\u001b[1;31mAssertionError\u001b[0m: Can't divide"
     ]
    }
   ],
   "source": [
    "print(div(15,5))\n",
    "print(div(15,0))"
   ]
  },
  {
   "cell_type": "markdown",
   "metadata": {},
   "source": [
    "# Problem 2"
   ]
  },
  {
   "cell_type": "code",
   "execution_count": 8,
   "metadata": {},
   "outputs": [
    {
     "name": "stdout",
     "output_type": "stream",
     "text": [
      "The current entery is a\n",
      "Oops! unsupported operand type(s) for /: 'int' and 'str'\n",
      "The current entery is 0\n",
      "Oops! division by zero\n",
      "The current entery is 2\n",
      "The reciprocal of 2 is 0.5\n"
     ]
    }
   ],
   "source": [
    "list1=[\"a\",0,2]\n",
    "for i in list1:\n",
    "    print(f\"The current entery is {i}\")\n",
    "    try:\n",
    "        print(f\"The reciprocal of {i} is {1/i}\")\n",
    "    except Exception as e:\n",
    "         print(f\"Oops! {e}\")"
   ]
  },
  {
   "cell_type": "markdown",
   "metadata": {},
   "source": [
    "# Problem 3"
   ]
  },
  {
   "cell_type": "code",
   "execution_count": 34,
   "metadata": {},
   "outputs": [],
   "source": [
    "import time\n",
    "def dec(func):\n",
    "    def wrapper(*args,**kwargs):\n",
    "            t1=time.time()\n",
    "            func(*args,**kwargs)\n",
    "            t2=time.time()\n",
    "            print(t2-t1)\n",
    "    return wrapper\n",
    "\n",
    "\n",
    "\n",
    "\n",
    "class Person:\n",
    "    \n",
    "    def __init__(self, name, last_name, age, gender, student, password):\n",
    "        self.name=name\n",
    "        self.last_name=last_name\n",
    "        self.age=age\n",
    "        self.gender=gender\n",
    "        self.student= student\n",
    "        self.__password=password\n",
    "        \n",
    "    def setPassword(self,password):\n",
    "        self.__password=password\n",
    "    \n",
    "    def getPassword(self,new_password):\n",
    "        return(self.__password)\n",
    "   \n",
    "    @dec\n",
    "    def Greeting(self,second_person):\n",
    "        print (f\"Welcome dear {second_person.name}\")\n",
    "               \n",
    "    def Goodbye(self):\n",
    "        return(\"Bye everyone!\")\n",
    "    \n",
    "    def Fevourite_num(self,num1):\n",
    "        try:\n",
    "            return(f\"My favourite number is {int(num1)}\")\n",
    "        except Exception as e:\n",
    "            print(e)\n",
    "        \n",
    "            \n",
    "    def Read_file(self, filename):\n",
    "        if isinstance(filename,str):\n",
    "            fname=f\"{filename}+.txt\"\n",
    "            try:\n",
    "                return open(fname)\n",
    "            except FileNotFoundError:\n",
    "                print(\"No such file or directory\")"
   ]
  },
  {
   "cell_type": "code",
   "execution_count": 35,
   "metadata": {},
   "outputs": [],
   "source": [
    "y=Person(\"Davit\",\"Khachatryan\", 23, \"M\", True, \"D#BJ@97YT\")"
   ]
  },
  {
   "cell_type": "code",
   "execution_count": 39,
   "metadata": {},
   "outputs": [
    {
     "name": "stdout",
     "output_type": "stream",
     "text": [
      "invalid literal for int() with base 10: 'five'\n"
     ]
    }
   ],
   "source": [
    "y.Fevourite_num(\"five\")"
   ]
  },
  {
   "cell_type": "code",
   "execution_count": 40,
   "metadata": {},
   "outputs": [
    {
     "name": "stdout",
     "output_type": "stream",
     "text": [
      "No such file or directory\n"
     ]
    }
   ],
   "source": [
    "y.Read_file(\"sjbjg\")"
   ]
  },
  {
   "cell_type": "code",
   "execution_count": null,
   "metadata": {},
   "outputs": [],
   "source": []
  }
 ],
 "metadata": {
  "kernelspec": {
   "display_name": "Python 3",
   "language": "python",
   "name": "python3"
  },
  "language_info": {
   "codemirror_mode": {
    "name": "ipython",
    "version": 3
   },
   "file_extension": ".py",
   "mimetype": "text/x-python",
   "name": "python",
   "nbconvert_exporter": "python",
   "pygments_lexer": "ipython3",
   "version": "3.8.3"
  }
 },
 "nbformat": 4,
 "nbformat_minor": 4
}
