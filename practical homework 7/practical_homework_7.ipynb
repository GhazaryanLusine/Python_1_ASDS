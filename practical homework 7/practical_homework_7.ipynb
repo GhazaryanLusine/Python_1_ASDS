{
 "cells": [
  {
   "cell_type": "markdown",
   "metadata": {},
   "source": [
    "## Problem 1\n",
    "\n",
    "```\n",
    "Use prototype pattern and classes of your choice. create an abstract class Shape and concrete classes extending the Shape class: Circle, Square and Rectangle. Define a class ShapeCache which stores shape objects in a dictionary and returns their clones when requested.\n",
    "```"
   ]
  },
  {
   "cell_type": "code",
   "execution_count": 3,
   "metadata": {},
   "outputs": [
    {
     "name": "stdout",
     "output_type": "stream",
     "text": [
      "Circle\n",
      "Square\n",
      "Rectangle\n"
     ]
    }
   ],
   "source": [
    "from abc import ABCMeta, abstractmethod\n",
    "import copy\n",
    "  \n",
    "  \n",
    "\n",
    "class Shape(metaclass=ABCMeta):\n",
    "    def __init__(self):\n",
    "        self.id = None\n",
    "        self.type = None\n",
    "\n",
    "    @abstractmethod\n",
    "    def draw(self):\n",
    "        pass\n",
    "\n",
    "    def get_type(self):\n",
    "        return self.type\n",
    "\n",
    "    def get_id(self):\n",
    "        return self.id\n",
    "\n",
    "    def set_id(self, sid):\n",
    "        self.id = sid\n",
    "\n",
    "    def clone(self):\n",
    "        return copy.copy(self)\n",
    "\n",
    "\n",
    "class Rectangle(Shape):\n",
    "    def __init__(self):\n",
    "        super().__init__()\n",
    "        self.type = \"Rectangle\"\n",
    "\n",
    "    def draw(self):\n",
    "        print(\"Area = a^b\")\n",
    "\n",
    "\n",
    "class Square(Shape):\n",
    "    def __init__(self):\n",
    "        super().__init__()\n",
    "        self.type = \"Square\"\n",
    "\n",
    "    def draw(self):\n",
    "        print(\"Area = a^2\")\n",
    "\n",
    "\n",
    "class Circle(Shape):\n",
    "    def __init__(self):\n",
    "        super().__init__()\n",
    "        self.type = \"Circle\"\n",
    "\n",
    "    def draw(self):\n",
    "        print(\"Area = pi*r^2\")\n",
    "\n",
    "\n",
    "class ShapeCache:\n",
    "    cache = {}\n",
    "\n",
    "    @staticmethod\n",
    "    def get_shape(sid):\n",
    "        shape = ShapeCache.cache.get(sid, None)\n",
    "        return shape.clone()\n",
    "\n",
    "    @staticmethod\n",
    "    def load():\n",
    "        circle = Circle()\n",
    "        circle.set_id(\"1\")\n",
    "        ShapeCache.cache[circle.get_id()] = circle\n",
    "\n",
    "        square = Square()\n",
    "        square.set_id(\"2\")\n",
    "        ShapeCache.cache[square.get_id()] = square\n",
    "\n",
    "        rectangle = Rectangle()\n",
    "        rectangle.set_id(\"3\")\n",
    "        ShapeCache.cache[rectangle.get_id()] = rectangle\n",
    "\n",
    "\n",
    "if __name__ == '__main__':\n",
    "    ShapeCache.load()\n",
    "\n",
    "    circle = ShapeCache.get_shape(\"1\")\n",
    "    print(circle.get_type())\n",
    "\n",
    "    square = ShapeCache.get_shape(\"2\")\n",
    "    print(square.get_type())\n",
    "\n",
    "    rectangle = ShapeCache.get_shape(\"3\")\n",
    "    print(rectangle.get_type())"
   ]
  },
  {
   "cell_type": "markdown",
   "metadata": {},
   "source": [
    "## Problem 2\n",
    "\n",
    "```\n",
    "Use adapter pattern and classes of your choice. Create a structure where you have 1-2 adaptees that have a method that returns some text in spanish. Have an adapter which will have a method that translates the text to english.\n",
    "```"
   ]
  },
  {
   "cell_type": "code",
   "execution_count": 1,
   "metadata": {},
   "outputs": [],
   "source": [
    "from translate import Translator\n",
    "\n"
   ]
  },
  {
   "cell_type": "code",
   "execution_count": 16,
   "metadata": {},
   "outputs": [
    {
     "name": "stdout",
     "output_type": "stream",
     "text": [
      "\"Imagina a toda la gente viviendo en paz.\n"
     ]
    }
   ],
   "source": [
    "import abc\n",
    "\n",
    "class Target(metaclass=abc.ABCMeta):\n",
    "    \n",
    " \n",
    "    def __init__(self):\n",
    "        self._adaptee = Adaptee()\n",
    " \n",
    "    @abc.abstractmethod\n",
    "    def translate(self):\n",
    "        pass\n",
    " \n",
    " \n",
    "class Adapter(Target):\n",
    " \n",
    "    def translate(self):\n",
    "        translator= Translator(from_lang=\"english\",to_lang=\"spanish\")\n",
    "        translation = translator.translate(self._adaptee.english_text())\n",
    "        print(translation)\n",
    " \n",
    " \n",
    "class Adaptee:\n",
    "    \n",
    "    def english_text(self):\n",
    "        return \"Imagine all the people living life in peace\"\n",
    " \n",
    " \n",
    "adapter = Adapter()\n",
    "adapter.translate()"
   ]
  },
  {
   "cell_type": "markdown",
   "metadata": {},
   "source": [
    "## Problem 3\n",
    "\n",
    "```\n",
    "Use singleton pattern and classes of your choice. Create a structure where you have some resource that has states busy and free and 3 users that try to use the resource and change the state to busy while they are using it. The resource should be singleton. Implement following 2 different methods for singleton implementation that we have discussion. \n",
    "```"
   ]
  },
  {
   "cell_type": "code",
   "execution_count": 13,
   "metadata": {},
   "outputs": [
    {
     "name": "stdout",
     "output_type": "stream",
     "text": [
      "busy\n",
      "busy\n",
      "busy\n"
     ]
    }
   ],
   "source": [
    "class Borg:\n",
    "  \n",
    "    __shared_state = dict()\n",
    "    \n",
    "   \n",
    "    def __init__(self):\n",
    "  \n",
    "        self.__dict__ = self.__shared_state\n",
    "        self.state = 'free'\n",
    "  \n",
    "    def __str__(self):\n",
    "  \n",
    "        return self.state\n",
    "  \n",
    "\n",
    "  \n",
    "user1 = Borg()   \n",
    "user2 = Borg()   \n",
    "user3 = Borg()   \n",
    "\n",
    "user1.state = 'free'\n",
    "user2.state = 'busy'     \n",
    "user3.state = 'busy'\n",
    "\n",
    "\n",
    "print(user1.state)    \n",
    "print(user2.state)    \n",
    "print(user3.state)    "
   ]
  },
  {
   "cell_type": "code",
   "execution_count": 15,
   "metadata": {},
   "outputs": [
    {
     "name": "stdout",
     "output_type": "stream",
     "text": [
      "<__main__.Singleton object at 0x0000020E23F5C4F0>\n",
      "<__main__.Singleton object at 0x0000020E23F5C4F0>\n"
     ]
    }
   ],
   "source": [
    "class Singleton:\n",
    "  \n",
    "    __shared_instance = 'free'\n",
    "  \n",
    "    @staticmethod\n",
    "    def getInstance():\n",
    "  \n",
    "        if Singleton.__shared_instance == 'free':\n",
    "            Singleton()\n",
    "        return Singleton.__shared_instance\n",
    "  \n",
    "    def __init__(self):\n",
    "  \n",
    "        if Singleton.__shared_instance != 'free':\n",
    "            raise Exception (\"Singleton Class must have only one object\")\n",
    "        else:\n",
    "            Singleton.__shared_instance = self\n",
    "  \n",
    "\n",
    "\n",
    "obj = Singleton()\n",
    "print(obj)\n",
    "obj = Singleton.getInstance()\n",
    "print(obj)\n"
   ]
  },
  {
   "cell_type": "code",
   "execution_count": null,
   "metadata": {},
   "outputs": [],
   "source": []
  }
 ],
 "metadata": {
  "kernelspec": {
   "display_name": "Python 3",
   "language": "python",
   "name": "python3"
  },
  "language_info": {
   "codemirror_mode": {
    "name": "ipython",
    "version": 3
   },
   "file_extension": ".py",
   "mimetype": "text/x-python",
   "name": "python",
   "nbconvert_exporter": "python",
   "pygments_lexer": "ipython3",
   "version": "3.8.8"
  }
 },
 "nbformat": 4,
 "nbformat_minor": 4
}
