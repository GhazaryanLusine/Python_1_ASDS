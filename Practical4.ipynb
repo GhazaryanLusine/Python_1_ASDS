{
 "cells": [
  {
   "cell_type": "markdown",
   "metadata": {},
   "source": [
    "## Problem 1"
   ]
  },
  {
   "cell_type": "code",
   "execution_count": 83,
   "metadata": {},
   "outputs": [
    {
     "name": "stdout",
     "output_type": "stream",
     "text": [
      "Enter a nameArame\n",
      "Enter a type of sporttenis\n",
      "{'Hayk': 'football', 'Davit': 'basketball', 'Levon': 'chess'}\n",
      "{'Hayk': 'football', 'Davit': 'basketball', 'Levon': 'chess', 'Arame': 'tenis'}\n"
     ]
    }
   ],
   "source": [
    "dic1={\"Hayk\":\"football\",\"Davit\":\"basketball\",\"Levon\":\"chess\"}\n",
    "key=input(\"Enter a name\" )\n",
    "value=input(\"Enter a type of sport\" )\n",
    "print(dic1)\n",
    "dic1[key]=value\n",
    "print(dic1)"
   ]
  },
  {
   "cell_type": "markdown",
   "metadata": {},
   "source": [
    "## Problem2"
   ]
  },
  {
   "cell_type": "code",
   "execution_count": 84,
   "metadata": {},
   "outputs": [
    {
     "name": "stdout",
     "output_type": "stream",
     "text": [
      "{1: 'a', 2: 'b', 3: 'c'}\n"
     ]
    }
   ],
   "source": [
    "l1 = [(1, \"a\"),(2, \"b\"), (3, \"c\")]\n",
    "d1={}\n",
    "for i in l1:\n",
    "    i=list(i)\n",
    "    d1.update({i[0]:i[1]})\n",
    "print(d1)"
   ]
  },
  {
   "cell_type": "markdown",
   "metadata": {},
   "source": [
    "## Problem 3"
   ]
  },
  {
   "cell_type": "code",
   "execution_count": 85,
   "metadata": {},
   "outputs": [
    {
     "name": "stdout",
     "output_type": "stream",
     "text": [
      "Enter a number: 56\n",
      "Enter a number: 5645\n",
      "The number 5645 is the greatest.\n"
     ]
    }
   ],
   "source": [
    "n1 = int(input(\"Enter a number: \"))\n",
    "n2 = int(input(\"Enter a number: \"))\n",
    "\n",
    "print(f\"The number {max(n1,n2)} is the greatest.\")"
   ]
  },
  {
   "cell_type": "markdown",
   "metadata": {},
   "source": [
    "## Problem 4"
   ]
  },
  {
   "cell_type": "code",
   "execution_count": 86,
   "metadata": {},
   "outputs": [
    {
     "name": "stdout",
     "output_type": "stream",
     "text": [
      "Dear Lusine, you are too young to register\n",
      "Please enter a different password\n"
     ]
    }
   ],
   "source": [
    "name = \"Lusine\"\n",
    "age = 12\n",
    "password = \"&ghdghjdbf\"\n",
    "\n",
    "if name == \"Batmen\":\n",
    "    print(\"Welcome Mr. Batman!\")\n",
    "if age < 16:\n",
    "    print(f\"Dear {name}, you are too young to register\")\n",
    "if \"&\" not in password or \"*\" not in password:\n",
    "    print(\"Please enter a different password\")"
   ]
  },
  {
   "cell_type": "markdown",
   "metadata": {},
   "source": [
    "## Problem 5"
   ]
  },
  {
   "cell_type": "code",
   "execution_count": 76,
   "metadata": {},
   "outputs": [],
   "source": [
    "d={\"name\": \"Armen\",\"age\": 15, \"grades\": [10, 8, 8, 4, 6, 7] }"
   ]
  },
  {
   "cell_type": "code",
   "execution_count": 77,
   "metadata": {},
   "outputs": [
    {
     "name": "stdout",
     "output_type": "stream",
     "text": [
      "Enter a number: 89\n",
      "{'name': 'Armen', 'age': 15, 'grades': [10, 8, 8, 4, 6, 7], 'weight': 89}\n"
     ]
    }
   ],
   "source": [
    "if \"weight\" not in d.keys():\n",
    "    n=int(input(\"Enter a number: \"))\n",
    "    d.update({\"weight\": n})\n",
    "    print(d)\n",
    "else:\n",
    "    print(d.get(\"weight\"))\n"
   ]
  }
 ],
 "metadata": {
  "kernelspec": {
   "display_name": "Python 3",
   "language": "python",
   "name": "python3"
  },
  "language_info": {
   "codemirror_mode": {
    "name": "ipython",
    "version": 3
   },
   "file_extension": ".py",
   "mimetype": "text/x-python",
   "name": "python",
   "nbconvert_exporter": "python",
   "pygments_lexer": "ipython3",
   "version": "3.8.3"
  }
 },
 "nbformat": 4,
 "nbformat_minor": 4
}
