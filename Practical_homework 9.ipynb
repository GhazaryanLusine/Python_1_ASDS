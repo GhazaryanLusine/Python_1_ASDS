{
 "cells": [
  {
   "cell_type": "markdown",
   "id": "5c590371",
   "metadata": {},
   "source": [
    "## Problem 1."
   ]
  },
  {
   "cell_type": "code",
   "execution_count": 6,
   "id": "9f85371e",
   "metadata": {},
   "outputs": [
    {
     "name": "stdout",
     "output_type": "stream",
     "text": [
      "Ordering food from market or from resturant\n",
      "Preparing the order in the market or in the resturant\n",
      "Delivering the order \n",
      "Pay online or by cash\n"
     ]
    }
   ],
   "source": [
    "class Ordering:    \n",
    "  \n",
    "   def order(self):   \n",
    "      print(\"Ordering food from market or from resturant\")   \n",
    "  \n",
    "  \n",
    "class Preparing:    \n",
    "  \n",
    "   def prepare(self):   \n",
    "      print(\"Preparing the order in the market or in the resturant\")   \n",
    "  \n",
    "  \n",
    "class Delivering:   \n",
    "  \n",
    "   def deliver(self):   \n",
    "      print(\"Delivering the order \")   \n",
    "\n",
    "class Payment_method:   \n",
    "  \n",
    "   def pay(self):   \n",
    "      print(\"Pay online or by cash\") \n",
    "  \n",
    "class Operator:   \n",
    "  \n",
    "   def __init__(self):   \n",
    "      self.ordering = Ordering()  \n",
    "      self.preparing = Preparing()   \n",
    "      self.delivering = Delivering()  \n",
    "      self.payment = Payment_method()\n",
    "        \n",
    "   def completeOrder(self):  \n",
    "      self.ordering.order()  \n",
    "      self.preparing.prepare()  \n",
    "      self.delivering.deliver() \n",
    "      self.payment.pay()\n",
    "  \n",
    " \n",
    "  \n",
    "order = Operator()  \n",
    "order.completeOrder()   "
   ]
  },
  {
   "cell_type": "code",
   "execution_count": null,
   "id": "d2547441",
   "metadata": {},
   "outputs": [],
   "source": []
  }
 ],
 "metadata": {
  "kernelspec": {
   "display_name": "Python 3",
   "language": "python",
   "name": "python3"
  },
  "language_info": {
   "codemirror_mode": {
    "name": "ipython",
    "version": 3
   },
   "file_extension": ".py",
   "mimetype": "text/x-python",
   "name": "python",
   "nbconvert_exporter": "python",
   "pygments_lexer": "ipython3",
   "version": "3.8.8"
  }
 },
 "nbformat": 4,
 "nbformat_minor": 5
}
