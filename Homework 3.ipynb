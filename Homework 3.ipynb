{
 "cells": [
  {
   "cell_type": "markdown",
   "metadata": {},
   "source": [
    "# Problem 1"
   ]
  },
  {
   "cell_type": "code",
   "execution_count": null,
   "metadata": {},
   "outputs": [],
   "source": [
    "class Car:\n",
    "    def __init__(self, model, color, max_speed):\n",
    "        self.model = model\n",
    "        self.color = color\n",
    "        self.max_speed = max_speed\n",
    "        \n",
    "    \n",
    "    def compareCar(self,car2):\n",
    "        if self.max_speed >= car2.max_speed:\n",
    "            return(\"car1 is better than car2\")\n",
    "        else:\n",
    "            return(\"car2 is better than car1\")"
   ]
  },
  {
   "cell_type": "code",
   "execution_count": 40,
   "metadata": {},
   "outputs": [
    {
     "data": {
      "text/plain": [
       "'car2 is better than car1'"
      ]
     },
     "execution_count": 40,
     "metadata": {},
     "output_type": "execute_result"
    }
   ],
   "source": [
    "car=Car(\"BMW\",\"blue\",120)\n",
    "car2=Car(\"BMW\",\"black\",150)\n",
    "car.compareCar(car2)"
   ]
  },
  {
   "cell_type": "markdown",
   "metadata": {},
   "source": [
    "# Problem 2"
   ]
  },
  {
   "cell_type": "code",
   "execution_count": 204,
   "metadata": {},
   "outputs": [],
   "source": [
    "import time\n",
    "def dec(func):\n",
    "    def wrapper(*args,**kwargs):\n",
    "            t1=time.time()\n",
    "            func(*args,**kwargs)\n",
    "            t2=time.time()\n",
    "            print(t2-t1)\n",
    "    return wrapper\n",
    "\n",
    "\n",
    "\n",
    "\n",
    "class Person:\n",
    "    \n",
    "    def __init__(self, name, last_name, age, gender, student, password):\n",
    "        self.name=name\n",
    "        self.last_name=last_name\n",
    "        self.age=age\n",
    "        self.gender=gender\n",
    "        self.student= student\n",
    "        self.__password=password\n",
    "        \n",
    "    def setPassword(self,password):\n",
    "        self.__password=password\n",
    "    \n",
    "    def getPassword(self,new_password):\n",
    "        return(self.__password)\n",
    "   \n",
    "    @dec\n",
    "    def Greeting(self,second_person):\n",
    "        print (f\"Welcome dear {second_person.name}\")\n",
    "               \n",
    "    def Goodbye(self):\n",
    "        return(\"Bye everyone!\")\n",
    "    \n",
    "    def Fevourite_num(self,num1):\n",
    "        if isinstance(num1,int):\n",
    "               return(f\"My favourite number is {num1}\")\n",
    "            \n",
    "    def Read_file(self, filename):\n",
    "        if isinstance(filename,str):\n",
    "            fname=f\"{filename}+.txt\"\n",
    "            return open(fname)"
   ]
  },
  {
   "cell_type": "code",
   "execution_count": 197,
   "metadata": {},
   "outputs": [],
   "source": [
    "y=Person(\"Davit\",\"Khachatryan\", 23, \"M\", True, \"D#BJ@97YT\")"
   ]
  },
  {
   "cell_type": "code",
   "execution_count": 198,
   "metadata": {},
   "outputs": [],
   "source": [
    "x=Person(\"Lusine\",\"Ghazaryan\", 26, \"F\", False, \"L156#94\")"
   ]
  },
  {
   "cell_type": "code",
   "execution_count": 199,
   "metadata": {},
   "outputs": [
    {
     "data": {
      "text/plain": [
       "'Bye everyone!'"
      ]
     },
     "execution_count": 199,
     "metadata": {},
     "output_type": "execute_result"
    }
   ],
   "source": [
    "x.Goodbye()"
   ]
  },
  {
   "cell_type": "code",
   "execution_count": 203,
   "metadata": {},
   "outputs": [
    {
     "data": {
      "text/plain": [
       "'L156#94'"
      ]
     },
     "execution_count": 203,
     "metadata": {},
     "output_type": "execute_result"
    }
   ],
   "source": [
    "x._Person__password"
   ]
  },
  {
   "cell_type": "code",
   "execution_count": 201,
   "metadata": {},
   "outputs": [
    {
     "data": {
      "text/plain": [
       "True"
      ]
     },
     "execution_count": 201,
     "metadata": {},
     "output_type": "execute_result"
    }
   ],
   "source": [
    "y.student"
   ]
  },
  {
   "cell_type": "code",
   "execution_count": 183,
   "metadata": {},
   "outputs": [
    {
     "name": "stdout",
     "output_type": "stream",
     "text": [
      "Welcome dear Davit\n",
      "0.0\n"
     ]
    }
   ],
   "source": [
    "x.Greeting(y)"
   ]
  },
  {
   "cell_type": "code",
   "execution_count": 185,
   "metadata": {},
   "outputs": [
    {
     "data": {
      "text/plain": [
       "'My favourite number is 25'"
      ]
     },
     "execution_count": 185,
     "metadata": {},
     "output_type": "execute_result"
    }
   ],
   "source": [
    "x.Fevourite_num(25)"
   ]
  }
 ],
 "metadata": {
  "kernelspec": {
   "display_name": "Python 3",
   "language": "python",
   "name": "python3"
  },
  "language_info": {
   "codemirror_mode": {
    "name": "ipython",
    "version": 3
   },
   "file_extension": ".py",
   "mimetype": "text/x-python",
   "name": "python",
   "nbconvert_exporter": "python",
   "pygments_lexer": "ipython3",
   "version": "3.8.3"
  }
 },
 "nbformat": 4,
 "nbformat_minor": 4
}
